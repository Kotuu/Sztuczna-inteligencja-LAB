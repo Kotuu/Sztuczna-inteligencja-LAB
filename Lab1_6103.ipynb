{
 "cells": [
  {
   "cell_type": "code",
   "execution_count": null,
   "metadata": {},
   "outputs": [],
   "source": [
    "import pandas as pd\n",
    "import requests\n",
    "\n",
    "def pobieranie_danych(data_od, data_do, waluta):\n",
    "    url = 'http://api.nbp.pl/api/exchangerates/rates/A/' + waluta + '/' + data_od + '/' + data_do + '/'\n",
    "    currency_req = requests.get(url)\n",
    "    currency_data = currency_req.json()\n",
    "    return currency_data['rates']\n",
    "\n",
    "# Pobranie danych jako dataframe\n",
    "def pobieranie_dataframe(data_od, data_do, waluta):\n",
    "    dane_kursu = pobieranie_danych(data_od, data_do, waluta)\n",
    "    return pd.DataFrame.from_dict(dane_kursu)"
   ]
  },
  {
   "cell_type": "code",
   "execution_count": null,
   "metadata": {},
   "outputs": [],
   "source": [
    "GBP = pobieranie_dataframe('2019-10-01', '2019-10-31', 'GBP')\n",
    "print(GBP)\n",
    "\n",
    "EUR = pobieranie_dataframe('2019-10-01', '2019-10-31', 'EUR')\n",
    "print(EUR)"
   ]
  },
  {
   "cell_type": "code",
   "execution_count": null,
   "metadata": {},
   "outputs": [],
   "source": [
    "# zadanie 3\n",
    "\n",
    "#GBP\n",
    "\n",
    "print(\" \")\n",
    "print(GBP.head()) #podgląd zawartości dataframe\n",
    "print(\" \")\n",
    "print(GBP.dtypes) #sprawdzanie typu pobranych danych\n",
    "GBP['effectiveDate'] = pd.to_datetime(GBP['effectiveDate']) #zmiana typu danych kolumny z datą na typ datatime\n",
    "print(\" \")\n",
    "print(GBP['effectiveDate'].dtypes) #sprawdzenie typu danych kolumny z datą po zmianie\n",
    "GBP = GBP.set_index(\"effectiveDate\").drop(columns='no') #zmiana indeksu na datę i usunięcie kolumny \"no\"\n",
    "print(GBP.head())\n",
    "\n",
    "#EURO\n",
    "\n",
    "print(\" \")\n",
    "print(EUR.head()) #podgląd zawartości dataframe\n",
    "print(\" \")\n",
    "print(EUR.dtypes) #sprawdzanie typu pobranych danych\n",
    "EUR['effectiveDate'] = pd.to_datetime(EUR['effectiveDate']) #zmiana typu danych kolumny z datą na typ datatime\n",
    "print(\" \")\n",
    "print(EUR['effectiveDate'].dtypes) #sprawdzenie typu danych kolumny z datą po zmianie\n",
    "EUR = EUR.set_index(\"effectiveDate\").drop(columns='no') #zmiana indeksu na datę i usunięcie kolumny \"no\"\n",
    "print(EUR.head())"
   ]
  },
  {
   "cell_type": "code",
   "execution_count": null,
   "metadata": {},
   "outputs": [],
   "source": [
    "from numpy import corrcoef\n",
    "\n",
    "w1 = GBP['mid']\n",
    "w2 = EUR['mid']\n",
    "\n",
    "corrcoef(w1, w2)"
   ]
  },
  {
   "cell_type": "code",
   "execution_count": null,
   "metadata": {},
   "outputs": [],
   "source": [
    "# zadanie 5\n",
    "\n",
    "import matplotlib.pyplot as plt\n",
    "\n",
    "fig, (ax1, ax2) = plt.subplots(1,2, sharey=True)\n",
    "fig.suptitle('Wykres kursu walut w październiku 2019') #opis wykresów\n",
    "ax1.plot(GBP) #przypisanie danych kursu GBP do 1 wykresu\n",
    "ax1.set_title('GBP') \n",
    "ax2.plot(EUR, 'tab:green') #przypisanie danych kursu EUR do 2 wykresu\n",
    "ax2.set_title('EUR')\n",
    "\n",
    "fig.autofmt_xdate() #ustawienie opisów na osi x pod kątem 45 stopni\n",
    "\n",
    "plt.show()"
   ]
  }
 ],
 "metadata": {
  "kernelspec": {
   "display_name": "Python 3",
   "language": "python",
   "name": "python3"
  },
  "language_info": {
   "codemirror_mode": {
    "name": "ipython",
    "version": 3
   },
   "file_extension": ".py",
   "mimetype": "text/x-python",
   "name": "python",
   "nbconvert_exporter": "python",
   "pygments_lexer": "ipython3",
   "version": "3.7.3"
  }
 },
 "nbformat": 4,
 "nbformat_minor": 2
}
